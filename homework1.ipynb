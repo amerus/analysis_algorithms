{
 "cells": [
  {
   "cell_type": "code",
   "execution_count": 1,
   "metadata": {},
   "outputs": [],
   "source": [
    "import matplotlib\n",
    "import numpy as np\n",
    "import matplotlib.pyplot as plt\n",
    "%matplotlib inline"
   ]
  },
  {
   "cell_type": "markdown",
   "metadata": {},
   "source": [
    "## Оптимизация. Имплементация градиентного спуска"
   ]
  },
  {
   "cell_type": "code",
   "execution_count": 2,
   "metadata": {},
   "outputs": [],
   "source": [
    "x = np.linspace(-50, 50, 5000)\n",
    "def func1(_x): return (_x**2)*(np.sin(0.5*_x)**2+1)\n",
    "def grad1(_x): return (_x)*(0.5*_x*np.sin(_x)-np.cos(_x)+3)"
   ]
  },
  {
   "cell_type": "code",
   "execution_count": 3,
   "metadata": {},
   "outputs": [],
   "source": [
    "def calculate_grad(func, x0, delta=0.01): return (func(x0+delta)-func(x0))/delta\n",
    "def calculate_grad2(func, x0, delta=0.01): return (func(x0+delta)-func(x0-delta))/(2*delta)"
   ]
  },
  {
   "cell_type": "code",
   "execution_count": 4,
   "metadata": {},
   "outputs": [
    {
     "name": "stdout",
     "output_type": "stream",
     "text": [
      "true grad -254.62290003360607\n",
      "method1 -254.1791155427518\n",
      "method2 -254.61986665654877\n"
     ]
    }
   ],
   "source": [
    "x0=np.random.uniform(-50, 50)\n",
    "print('true grad', grad1(x0))\n",
    "print('method1', calculate_grad(func1, x0))\n",
    "print('method2', calculate_grad2(func1, x0))"
   ]
  },
  {
   "cell_type": "code",
   "execution_count": 5,
   "metadata": {},
   "outputs": [
    {
     "data": {
      "image/png": "[encoded data removed]",
      "text/plain": [
       "<Figure size 432x288 with 1 Axes>"
      ]
     },
     "metadata": {
      "needs_background": "light"
     },
     "output_type": "display_data"
    }
   ],
   "source": [
    "plt.plot(x, func1(x))\n",
    "plt.show()"
   ]
  },
  {
   "cell_type": "code",
   "execution_count": 6,
   "metadata": {},
   "outputs": [
    {
     "name": "stdout",
     "output_type": "stream",
     "text": [
      "-33.176596693035194 1754.8988887992698\n",
      "31.44779530814226 989.2149110175211\n",
      "23.58105301166904 828.7867293362991\n",
      "44.35002074348077 2032.6706417609776\n",
      "-0.17116372694987803 0.0295110769239732\n",
      "-0.1364313568386866 0.018699996596595738\n",
      "-0.10889172912502237 0.011892523488797881\n",
      "-0.08698445720055183 0.007580598980562747\n",
      "-0.06952181297322474 0.004839120282083778\n",
      "-0.055583868819071375 0.0030919522138063526\n",
      "-0.0444499286807356 0.001976771941660618\n",
      "-0.03555116271358827 0.0012642844796595235\n",
      "-0.028436437621967105 0.0008087944446300042\n",
      "-0.022746850871536644 0.0005174861523495319\n",
      "-0.018196303807556713 0.00033113287920911403\n",
      "-0.0145564405814044 0.00021190118654080604\n",
      "-0.011644844036928018 0.00013560698959465395\n",
      "-0.009315717325347628 8.678447207661658e-05\n",
      "-0.007452493016948028 5.554042332733068e-05\n",
      "-0.0059619530229587814 3.554519970672369e-05\n",
      "-0.004769541226768412 2.2748652887428785e-05\n",
      "-0.0038156221314435074 1.4559025240815445e-05\n",
      "-0.0030524921500112425 9.317730030785517e-06\n",
      "-0.0024419908757891545 5.963328327727743e-06\n",
      "-0.001953591244395244 3.816522391630442e-06\n",
      "-0.0015628722499247893 2.442571161121317e-06\n",
      "-0.0012502974181975125 1.5632442448839506e-06\n",
      "-0.0010002377391061003 1.000475784969886e-06\n",
      "-0.0008001900912135541 6.403042845737118e-07\n",
      "-0.0006401520217343412 4.0979465291346876e-07\n"
     ]
    }
   ],
   "source": [
    "x0=np.random.uniform(-50, 50)\n",
    "alpha=0.1\n",
    "n_iter=30\n",
    "for x in range(n_iter):\n",
    "    print(x0, func1(x0))\n",
    "    x0-=alpha*grad1(x0)"
   ]
  },
  {
   "cell_type": "code",
   "execution_count": 7,
   "metadata": {},
   "outputs": [
    {
     "name": "stdout",
     "output_type": "stream",
     "text": [
      "0.0018850132984872228 3.553278291913792e-06\n"
     ]
    }
   ],
   "source": [
    "class optimizer:\n",
    "    def __init__(self, alpha, n_iter):\n",
    "        self.alpha=alpha\n",
    "        self.n_iter=n_iter\n",
    "    def fit(self, func, grad, x0):\n",
    "        for i in range(self.n_iter):\n",
    "            x0-=self.alpha*grad(x0)\n",
    "        return x0\n",
    "opt1=optimizer(alpha, 30)\n",
    "x=opt1.fit(func1, grad1, np.random.uniform(-50, 50))\n",
    "print(x, func1(x))"
   ]
  },
  {
   "cell_type": "markdown",
   "metadata": {},
   "source": [
    "<b>Домашнее задание: оптимизировать x^2*(np.sin(0,5*_x)^2+1)</b>\n",
    "<ul>\n",
    "<li>При каких значениях alpha оптимизация проходит успешно, а при каких \"застревает\"?</li></ul>"
   ]
  },
  {
   "cell_type": "markdown",
   "metadata": {},
   "source": [
    "При значениях alpha = 0.05 оптимизация застревает, не доходя до нуля. <br>\n",
    "При значениях alpha = 0.33 оптимизация уходит в бесконечность. <br>\n",
    "при значениях alpha = 0.15 оптимизация проходит успешно."
   ]
  }
 ],
 "metadata": {
  "kernelspec": {
   "display_name": "Python 3",
   "language": "python",
   "name": "python3"
  },
  "language_info": {
   "codemirror_mode": {
    "name": "ipython",
    "version": 3
   },
   "file_extension": ".py",
   "mimetype": "text/x-python",
   "name": "python",
   "nbconvert_exporter": "python",
   "pygments_lexer": "ipython3",
   "version": "3.6.8"
  }
 },
 "nbformat": 4,
 "nbformat_minor": 4
}
